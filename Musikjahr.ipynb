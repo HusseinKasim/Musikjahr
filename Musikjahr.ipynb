{
  "metadata": {
    "kernelspec": {
      "name": "python",
      "display_name": "Python (Pyodide)",
      "language": "python"
    },
    "language_info": {
      "codemirror_mode": {
        "name": "python",
        "version": 3
      },
      "file_extension": ".py",
      "mimetype": "text/x-python",
      "name": "python",
      "nbconvert_exporter": "python",
      "pygments_lexer": "ipython3",
      "version": "3.8"
    }
  },
  "nbformat_minor": 4,
  "nbformat": 4,
  "cells": [
    {
      "cell_type": "markdown",
      "source": "<h1> Musikjahr </h1>",
      "metadata": {}
    },
    {
      "cell_type": "markdown",
      "source": "This Data Science project aims to analyze a Spotify user's music trends in the previous year and recommends new artists based on those music trends.",
      "metadata": {}
    },
    {
      "cell_type": "markdown",
      "source": "Install libraries related to API",
      "metadata": {}
    },
    {
      "cell_type": "code",
      "source": "%pip install python-dotenv\n%pip install requests",
      "metadata": {
        "trusted": true
      },
      "outputs": [],
      "execution_count": 1
    },
    {
      "cell_type": "markdown",
      "source": "Install libraries related to Data Science tasks",
      "metadata": {}
    },
    {
      "cell_type": "code",
      "source": "%pip install seaborn",
      "metadata": {
        "trusted": true
      },
      "outputs": [],
      "execution_count": 2
    },
    {
      "cell_type": "markdown",
      "source": "Install library related to Spotify OAuth2",
      "metadata": {}
    },
    {
      "cell_type": "code",
      "source": "from dotenv import load_dotenv\nimport os\nimport base64\nimport requests\nimport urllib.parse\nimport json\nimport pandas as pd\nimport matplotlib.pyplot as plt\nimport seaborn as sns\nimport webbrowser\nfrom http.server import BaseHTTPRequestHandler, HTTPServer",
      "metadata": {
        "trusted": true
      },
      "outputs": [
        {
          "name": "stderr",
          "output_type": "stream",
          "text": "Matplotlib is building the font cache; this may take a moment.\n"
        }
      ],
      "execution_count": 3
    },
    {
      "cell_type": "code",
      "source": "load_dotenv()",
      "metadata": {
        "trusted": true
      },
      "outputs": [
        {
          "execution_count": 4,
          "output_type": "execute_result",
          "data": {
            "text/plain": "True"
          },
          "metadata": {}
        }
      ],
      "execution_count": 4
    },
    {
      "cell_type": "code",
      "source": "client_id = os.getenv(\"CLIENT_ID\")\nclient_secret = os.getenv(\"CLIENT_SECRET\")\nredirect_uri = \"http://localhost:3001\"\nscope = \"user-top-read\"",
      "metadata": {
        "trusted": true
      },
      "outputs": [],
      "execution_count": 5
    },
    {
      "cell_type": "code",
      "source": "# Returns the authorization header required to query the API\ndef get_auth_header(token):\n    return {\"Authorization\": \"Bearer \" + token}",
      "metadata": {
        "trusted": true
      },
      "outputs": [],
      "execution_count": 6
    },
    {
      "cell_type": "code",
      "source": "def get_auth_code():\n    auth_url = \"https://accounts.spotify.com/authorize\"\n    \n    params = {\n        \"client_id\": client_id,\n        \"response_type\": \"code\",\n        \"redirect_uri\": redirect_uri,\n        \"scope\": \"user-top-read\",\n    }\n\n    auth_url = f\"{auth_url}?{urllib.parse.urlencode(params)}\"\n    print(f\"Please Authorize access by clicking on: {auth_url}\")\n\n    auth_code = input(\"Enter the code in the generated URL: \")\n    \n    return auth_code\n",
      "metadata": {
        "trusted": true
      },
      "outputs": [],
      "execution_count": 7
    },
    {
      "cell_type": "code",
      "source": "# Returns new refresh token\ndef exchange_auth_code_for_refresh_token(auth_code):\n    token_url = \"https://accounts.spotify.com/api/token\"\n    \n    data = {\n        \"grant_type\": \"authorization_code\",\n        \"code\": auth_code,\n        \"redirect_uri\": redirect_uri,\n        \"client_id\": client_id,\n        \"client_secret\": client_secret\n        }\n\n    result = requests.post(token_url, data=data)\n    json_result = json.loads(result.content)\n    refresh_token = json_result['refresh_token']\n    \n    return refresh_token",
      "metadata": {
        "trusted": true
      },
      "outputs": [],
      "execution_count": 8
    },
    {
      "cell_type": "code",
      "source": "# Returns a new access token upon every execution\ndef refresh_access_token(refresh_token):\n    token_url = \"https://accounts.spotify.com/api/token\"\n    \n    data = {\n        \"grant_type\": \"refresh_token\",\n        \"refresh_token\": refresh_token,\n        \"client_id\": client_id,\n        \"client_secret\": client_secret\n        }\n\n    result = requests.post(token_url, data=data)\n    json_result = json.loads(result.content)\n    new_access_token = json_result['access_token']\n\n    return new_access_token",
      "metadata": {
        "trusted": true
      },
      "outputs": [],
      "execution_count": 9
    },
    {
      "cell_type": "code",
      "source": "auth_code = get_auth_code()\nprint(auth_code)",
      "metadata": {
        "trusted": true
      },
      "outputs": [
        {
          "name": "stdout",
          "output_type": "stream",
          "text": "Please Authorize access by clicking on: https://accounts.spotify.com/authorize?client_id=9e3ab84ec3634133b2710bc672715e09&response_type=code&redirect_uri=http%3A%2F%2Flocalhost%3A3001&scope=user-top-read\n<PyodideFuture pending cb=[WebLoop._decrement_in_progress()]>\n"
        },
        {
          "output_type": "stream",
          "name": "stdin",
          "text": "Enter the code in the generated URL:  AQAjHabII9gSdKCksDeMU49flKHSpR5bLAKdqfoFRrO2vs8Myl-dunG4mj5KLb4Jze6msCyiprYD99z6Is3_GolVFTCkArgLHHVJh18v4cZt6uoYsYnYenS6DjVg4yFmuGbvN_cDxTsQ-84Aq8Ob47guguha__qGFaTPOww8Jg3U2ofcxPrbbA\n"
        }
      ],
      "execution_count": 10
    },
    {
      "cell_type": "code",
      "source": "refresh_token = exchange_auth_code_for_refresh_token(auth_code.result())",
      "metadata": {
        "trusted": true
      },
      "outputs": [],
      "execution_count": 14
    },
    {
      "cell_type": "code",
      "source": "api_url = \"https://api.spotify.com/v1/me/top/tracks\"\n\nparams = {\n    \"limit\": 50,\n    \"time_range\": \"long_term\",\n    \"offset\": 0\n}\n\nresult = requests.get(api_url, headers=get_auth_header(refresh_access_token(refresh_token)), params=params)\ndata = json.loads(result.content)\n\ncount=1\n\nfor song in data['items']:\n    for artist in song['album']['artists']:\n        print(str(count) + \". \" + song['name'] + \" - \" + artist['name'])\n        count+=1",
      "metadata": {
        "trusted": true
      },
      "outputs": [
        {
          "name": "stdout",
          "output_type": "stream",
          "text": "1. Bothmer Schloss - Marie Bothmer\n2. baby pink (feat. Eem Triplin) - Camila Cabello\n3. 3 Nights - Dominic Fike\n4. Feel It - From The Original Series “Invincible” - d4vd\n5. Young And Beautiful - Various Artists\n6. Don't Go Yet - Camila Cabello\n7. Jailhouse Rock - Elvis Presley\n8. Say Yes To Heaven - Lana Del Rey\n9. On An Evening In Roma - Dean Martin\n10. Sprinter - Dave\n11. Sprinter - Central Cee\n12. Paint The Town Blue (from the series Arcane League of Legends) - Ashnikko\n13. Paint The Town Blue (from the series Arcane League of Legends) - Arcane\n14. Paint The Town Blue (from the series Arcane League of Legends) - League of Legends\n15. Vienna - Billy Joel\n16. Celia - Camila Cabello\n17. letzte bahn - LUNA\n18. Not Another Rockstar - Maisie Peters\n19. Mona Lisa (Spider-Man: Across the Spider-Verse) - Dominic Fike\n20. Wildberry Lillet - Nina Chuba\n21. Pope Is a Rockstar - SALES\n22. Runaway - AURORA\n23. Hello Mate - ArrDee\n24. Hello Mate - Kyla\n25. verlierer - LUNA\n26. Indecisive - Is It A Crime - Kidwild\n27. The Hills of Aberfeldy - Ed Sheeran\n28. St. Tropez - J. Cole\n29. Galway Girl - Ed Sheeran\n30. Growing Up (feat. Ed Sheeran) - Macklemore & Ryan Lewis\n31. Growing Up (feat. Ed Sheeran) - Macklemore\n32. Growing Up (feat. Ed Sheeran) - Ryan Lewis\n33. They Don't Love It - Jack Harlow\n34. Photograph - Ed Sheeran\n35. Gangbiz - Central Cee\n36. Arabella - Arctic Monkeys\n37. Seventh Heaven - INOHA\n38. Fluorescent Adolescent - Arctic Monkeys\n39. Dog Days Are Over - Florence + The Machine\n40. gen z luv - Central Cee\n41. Free Now - Gracie Abrams\n42. Lost The Breakup - Maisie Peters\n43. deja vu - Olivia Rodrigo\n44. Dear Maria, Count Me In - All Time Low\n45. Feel It Still - Portugal. The Man\n46. Self Love - Spider-Man: Across the Spider-Verse - Metro Boomin\n47. Tobey (feat. Big Sean and BabyTron) - Eminem\n48. American Idiot - Green Day\n49. Nancy Mulligan - Ed Sheeran\n50. No Role Modelz - J. Cole\n51. A Bar Song (Tipsy) - Shaboozey\n52. BAND4BAND (feat. Lil Baby) - Central Cee\n53. BAND4BAND (feat. Lil Baby) - Lil Baby\n54. BABY I'M BACK - The Kid LAROI\n55. Marry You - Bruno Mars\n56. RUNAWAY - OneRepublic\n57. telepatía - Kali Uchis\n"
        }
      ],
      "execution_count": 54
    }
  ]
}