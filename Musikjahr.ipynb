{
  "metadata": {
    "kernelspec": {
      "name": "python",
      "display_name": "Python (Pyodide)",
      "language": "python"
    },
    "language_info": {
      "codemirror_mode": {
        "name": "python",
        "version": 3
      },
      "file_extension": ".py",
      "mimetype": "text/x-python",
      "name": "python",
      "nbconvert_exporter": "python",
      "pygments_lexer": "ipython3",
      "version": "3.8"
    }
  },
  "nbformat_minor": 4,
  "nbformat": 4,
  "cells": [
    {
      "cell_type": "markdown",
      "source": "<h1> Musikjahr </h1>",
      "metadata": {}
    },
    {
      "cell_type": "markdown",
      "source": "This Data Science project aims to analyze a Spotify user's music trends in the previous year and recommends new artists based on those music trends.",
      "metadata": {}
    },
    {
      "cell_type": "markdown",
      "source": "Install libraries related to API",
      "metadata": {}
    },
    {
      "cell_type": "code",
      "source": "%pip install python-dotenv\n%pip install requests\n%pip install pycountry",
      "metadata": {
        "trusted": true
      },
      "outputs": [],
      "execution_count": 15
    },
    {
      "cell_type": "markdown",
      "source": "Install libraries related to Data Science tasks",
      "metadata": {}
    },
    {
      "cell_type": "code",
      "source": "%pip install seaborn",
      "metadata": {
        "trusted": true
      },
      "outputs": [],
      "execution_count": 16
    },
    {
      "cell_type": "markdown",
      "source": "Install library related to Spotify OAuth2",
      "metadata": {}
    },
    {
      "cell_type": "code",
      "source": "from dotenv import load_dotenv\nimport os\nimport base64\nimport requests\nimport urllib.parse\nimport json\nimport pandas as pd\nimport matplotlib.pyplot as plt\nimport seaborn as sns\nimport pycountry",
      "metadata": {
        "trusted": true
      },
      "outputs": [],
      "execution_count": 17
    },
    {
      "cell_type": "code",
      "source": "load_dotenv()",
      "metadata": {
        "trusted": true
      },
      "outputs": [
        {
          "execution_count": 18,
          "output_type": "execute_result",
          "data": {
            "text/plain": "True"
          },
          "metadata": {}
        }
      ],
      "execution_count": 18
    },
    {
      "cell_type": "markdown",
      "source": "## Spotify API Implementation",
      "metadata": {}
    },
    {
      "cell_type": "code",
      "source": "spotify_client_id = os.getenv(\"SPOTIFY_CLIENT_ID\")\nspotify_client_secret = os.getenv(\"SPOTIFY_CLIENT_SECRET\")\nspotify_redirect_uri = os.getenv(\"SPOTIFY_REDIRECT_URI\")\nscope = \"user-top-read user-read-private\"",
      "metadata": {
        "trusted": true
      },
      "outputs": [],
      "execution_count": 19
    },
    {
      "cell_type": "code",
      "source": "# Returns the authorization header required to query the API\ndef get_auth_header(token):\n    return {\"Authorization\": \"Bearer \" + token}",
      "metadata": {
        "trusted": true
      },
      "outputs": [],
      "execution_count": 20
    },
    {
      "cell_type": "code",
      "source": "def get_auth_code():\n    auth_url = \"https://accounts.spotify.com/authorize\"\n    \n    params = {\n        \"client_id\": spotify_client_id,\n        \"response_type\": \"code\",\n        \"redirect_uri\": spotify_redirect_uri,\n        \"scope\": \"user-top-read user-read-private\",\n    }\n\n    auth_url = f\"{auth_url}?{urllib.parse.urlencode(params)}\"\n    print(f\"Please Authorize access by clicking on: {auth_url}\")\n\n    auth_code = input(\"Enter the code in the generated URL: \")\n    \n    return auth_code\n",
      "metadata": {
        "trusted": true
      },
      "outputs": [],
      "execution_count": 21
    },
    {
      "cell_type": "code",
      "source": "# Returns new refresh token\ndef exchange_auth_code_for_refresh_token(auth_code):\n    token_url = \"https://accounts.spotify.com/api/token\"\n    \n    data = {\n        \"grant_type\": \"authorization_code\",\n        \"code\": auth_code,\n        \"redirect_uri\": spotify_redirect_uri,\n        \"client_id\": spotify_client_id,\n        \"client_secret\": spotify_client_secret\n        }\n\n    result = requests.post(token_url, data=data)\n    json_result = json.loads(result.content)\n    refresh_token = json_result['refresh_token']\n    \n    return refresh_token",
      "metadata": {
        "trusted": true
      },
      "outputs": [],
      "execution_count": 22
    },
    {
      "cell_type": "code",
      "source": "# Returns a new access token upon every execution\ndef refresh_access_token(refresh_token):\n    token_url = \"https://accounts.spotify.com/api/token\"\n    \n    data = {\n        \"grant_type\": \"refresh_token\",\n        \"refresh_token\": refresh_token,\n        \"client_id\": spotify_client_id,\n        \"client_secret\": spotify_client_secret\n        }\n\n    result = requests.post(token_url, data=data)\n    json_result = json.loads(result.content)\n    new_access_token = json_result['access_token']\n\n    return new_access_token",
      "metadata": {
        "trusted": true
      },
      "outputs": [],
      "execution_count": 23
    },
    {
      "cell_type": "code",
      "source": "auth_code = get_auth_code()\nprint(auth_code)",
      "metadata": {
        "trusted": true
      },
      "outputs": [
        {
          "name": "stdout",
          "output_type": "stream",
          "text": "Please Authorize access by clicking on: https://accounts.spotify.com/authorize?client_id=9e3ab84ec3634133b2710bc672715e09&response_type=code&redirect_uri=http%3A%2F%2Flocalhost%3A3001&scope=user-top-read+user-read-private\n<PyodideFuture pending cb=[WebLoop._decrement_in_progress()]>\n"
        },
        {
          "output_type": "stream",
          "name": "stdin",
          "text": "Enter the code in the generated URL:  AQDj3sYyGYsl1YvC6NShqhh7gvO9TtuKWKnFv6ctBxT6_s5IM7wq89qOCe360oQMQOZbDFAuxYlKTTDhflIcYYtBYrOX7WArlIvzhJ3Ui66F0bAz4cmtCDYNV1O-9bjgapQI1-O2O4J-9MdVWChpz-rGmUcXyyFwLx5ZVUBcSwc40WEHS0N8k3pGI1xOC3mm1ygwZc5jfJPY87A\n"
        }
      ],
      "execution_count": 24
    },
    {
      "cell_type": "code",
      "source": "refresh_token = exchange_auth_code_for_refresh_token(auth_code.result())",
      "metadata": {
        "trusted": true
      },
      "outputs": [],
      "execution_count": 25
    },
    {
      "cell_type": "code",
      "source": "# Returns the user's top tracks based on given time period\ndef get_top_tracks(refresh_token, time_period, amount):\n    api_url = \"https://api.spotify.com/v1/me/top/tracks\"\n    \n    params = {\n        \"limit\": amount,\n        \"time_range\": str(time_period),\n        \"offset\": 0\n    }\n    \n    result = requests.get(api_url, headers=get_auth_header(refresh_access_token(refresh_token)), params=params)\n    data = json.loads(result.content)\n\n    songs_dict={\"Song_Title\": [], \"Album\": [], \"Artists\": [], \"Song_Popularity\" : []}\n    \n    song_data = []\n    album_data = []\n    artists_data = []\n    popularity_data = []\n\n    # Retrieve song name and popularity and store in respective lists\n    for song in data['items']:\n        song_data.append(song['name'])\n        popularity_data.append(song['popularity'])\n\n    # Retrieve album name and artist name and store in respective lists\n    for song in data['items']:\n        artists_data_list = song['album']['artists']\n        album_data.append(song['album']['name'])\n        if(len(artists_data_list) > 1):\n            artists_for_song = []\n            for artists in artists_data_list:\n                artists_for_song.append(artists['name'])\n            artists_data.append(artists_for_song)\n        else:\n            for artists in artists_data_list:\n                artists_data.append(artists['name'])\n\n    # Copy data from lists to dict\n    for song in song_data:\n        songs_dict['Song_Title'].append(song)\n    for album in album_data:\n        songs_dict['Album'].append(album)\n    for artist in artists_data:\n        songs_dict['Artists'].append(artist)\n    for pop in popularity_data:\n        songs_dict['Song_Popularity'].append(pop)\n            \n    return songs_dict\n",
      "metadata": {
        "trusted": true
      },
      "outputs": [],
      "execution_count": 26
    },
    {
      "cell_type": "code",
      "source": "# Returns user's top artists\ndef get_top_artists(refresh_token, time_period, amount):\n    api_url = \"https://api.spotify.com/v1/me/top/artists\"\n    \n    params = {\n        \"limit\": amount,\n        \"time_range\": str(time_period),\n        \"offset\": 0\n    }\n    \n    result = requests.get(api_url, headers=get_auth_header(refresh_access_token(refresh_token)), params=params)\n    data = json.loads(result.content)\n\n    artists_dict={\"Artist_Name\": [], \"Artist_Popularity\" : []} # Add followers\n    \n    artist_data = []\n    popularity_data = []\n\n    # Retrieve song name and popularity and store in respective lists\n    for artist in data['items']:\n        artist_data.append(artist['name'])\n        popularity_data.append(artist['popularity'])\n\n   # Copy data from lists to dict\n    for artist in artist_data:\n        artists_dict['Artist_Name'].append(artist)\n    for pop in popularity_data:\n        artists_dict['Artist_Popularity'].append(pop)\n            \n    return artists_dict\n",
      "metadata": {
        "trusted": true
      },
      "outputs": [],
      "execution_count": 27
    },
    {
      "cell_type": "code",
      "source": "# Returns a score of how popular the user's recent songs are\ndef get_listening_poularity_score(df):\n    return float(df[\"Song_Popularity\"].mean())",
      "metadata": {
        "trusted": true
      },
      "outputs": [],
      "execution_count": 28
    },
    {
      "cell_type": "code",
      "source": "top_short_term_tracks = get_top_tracks(refresh_token, \"short_term\", 10) # Last 4 weeks\ntop_short_term_df = pd.DataFrame(top_short_term_tracks)\ntop_short_term_df",
      "metadata": {
        "trusted": true
      },
      "outputs": [
        {
          "execution_count": 29,
          "output_type": "execute_result",
          "data": {
            "text/plain": "                                          Song_Title  \\\n0                                  Snow On Tha Bluff   \n1                          Soft Gentle Brilliant III   \n2                                          Sk8er Boi   \n3                                       Rain in Cuba   \n4                                      Same Old Song   \n5                                       Stick Season   \n6  Heavy Is The Crown (Original Score) (from the ...   \n7                                   4 Your Eyez Only   \n8  Remember Me (from the series Arcane League of ...   \n9                                You’re Gonna Go Far   \n\n                                               Album  \\\n0                                  Snow On Tha Bluff   \n1       From Silence, to Silence, and with Great Joy   \n2                                             Let Go   \n3                                      Current Blues   \n4                                      Same Old Song   \n5                                       Stick Season   \n6  Arcane League of Legends: Season 2 (Soundtrack...   \n7                                   4 Your Eyez Only   \n8  Arcane League of Legends: Season 2 (Soundtrack...   \n9           Stick Season (We'll All Be Here Forever)   \n\n                       Artists  Song_Popularity  \n0                      J. Cole               62  \n1              Corey Kilgannon               16  \n2                Avril Lavigne               77  \n3                    Joe Hertz               42  \n4                The Lumineers               71  \n5                   Noah Kahan               86  \n6  [Arcane, League of Legends]               72  \n7                      J. Cole               64  \n8  [Arcane, League of Legends]               76  \n9                   Noah Kahan               80  ",
            "text/html": "<div>\n<style scoped>\n    .dataframe tbody tr th:only-of-type {\n        vertical-align: middle;\n    }\n\n    .dataframe tbody tr th {\n        vertical-align: top;\n    }\n\n    .dataframe thead th {\n        text-align: right;\n    }\n</style>\n<table border=\"1\" class=\"dataframe\">\n  <thead>\n    <tr style=\"text-align: right;\">\n      <th></th>\n      <th>Song_Title</th>\n      <th>Album</th>\n      <th>Artists</th>\n      <th>Song_Popularity</th>\n    </tr>\n  </thead>\n  <tbody>\n    <tr>\n      <th>0</th>\n      <td>Snow On Tha Bluff</td>\n      <td>Snow On Tha Bluff</td>\n      <td>J. Cole</td>\n      <td>62</td>\n    </tr>\n    <tr>\n      <th>1</th>\n      <td>Soft Gentle Brilliant III</td>\n      <td>From Silence, to Silence, and with Great Joy</td>\n      <td>Corey Kilgannon</td>\n      <td>16</td>\n    </tr>\n    <tr>\n      <th>2</th>\n      <td>Sk8er Boi</td>\n      <td>Let Go</td>\n      <td>Avril Lavigne</td>\n      <td>77</td>\n    </tr>\n    <tr>\n      <th>3</th>\n      <td>Rain in Cuba</td>\n      <td>Current Blues</td>\n      <td>Joe Hertz</td>\n      <td>42</td>\n    </tr>\n    <tr>\n      <th>4</th>\n      <td>Same Old Song</td>\n      <td>Same Old Song</td>\n      <td>The Lumineers</td>\n      <td>71</td>\n    </tr>\n    <tr>\n      <th>5</th>\n      <td>Stick Season</td>\n      <td>Stick Season</td>\n      <td>Noah Kahan</td>\n      <td>86</td>\n    </tr>\n    <tr>\n      <th>6</th>\n      <td>Heavy Is The Crown (Original Score) (from the ...</td>\n      <td>Arcane League of Legends: Season 2 (Soundtrack...</td>\n      <td>[Arcane, League of Legends]</td>\n      <td>72</td>\n    </tr>\n    <tr>\n      <th>7</th>\n      <td>4 Your Eyez Only</td>\n      <td>4 Your Eyez Only</td>\n      <td>J. Cole</td>\n      <td>64</td>\n    </tr>\n    <tr>\n      <th>8</th>\n      <td>Remember Me (from the series Arcane League of ...</td>\n      <td>Arcane League of Legends: Season 2 (Soundtrack...</td>\n      <td>[Arcane, League of Legends]</td>\n      <td>76</td>\n    </tr>\n    <tr>\n      <th>9</th>\n      <td>You’re Gonna Go Far</td>\n      <td>Stick Season (We'll All Be Here Forever)</td>\n      <td>Noah Kahan</td>\n      <td>80</td>\n    </tr>\n  </tbody>\n</table>\n</div>"
          },
          "metadata": {}
        }
      ],
      "execution_count": 29
    },
    {
      "cell_type": "code",
      "source": "top_medium_term_tracks = get_top_tracks(refresh_token, \"medium_term\", 10) # Last 6 months\ntop_medium_term_df = pd.DataFrame(top_medium_term_tracks)\ntop_medium_term_df",
      "metadata": {
        "trusted": true
      },
      "outputs": [
        {
          "execution_count": 30,
          "output_type": "execute_result",
          "data": {
            "text/plain": "                                          Song_Title  \\\n0                      baby pink (feat. Eem Triplin)   \n1                                           3 Nights   \n2                                       Don't Go Yet   \n3                                     Jailhouse Rock   \n4  Paint The Town Blue (from the series Arcane Le...   \n5                                              Celia   \n6                         Indecisive - Is It A Crime   \n7                                 Pope Is a Rockstar   \n8                      Growing Up (feat. Ed Sheeran)   \n9                                           Arabella   \n\n                                               Album  \\\n0                        C,XOXO (Magic City Edition)   \n1                       Don't Forget About Me, Demos   \n2                                            Familia   \n3                         Platinum - A Life In Music   \n4  Paint The Town Blue (from the series Arcane Le...   \n5                                            Familia   \n6                         Indecisive (Is It A Crime)   \n7                                           SALES LP   \n8                         This Unruly Mess I've Made   \n9                                                 AM   \n\n                                             Artists  Song_Popularity  \n0                                     Camila Cabello               53  \n1                                       Dominic Fike               69  \n2                                     Camila Cabello               45  \n3                                      Elvis Presley               72  \n4              [Ashnikko, Arcane, League of Legends]               72  \n5                                     Camila Cabello               41  \n6                                            Kidwild               66  \n7                                              SALES               66  \n8  [Macklemore & Ryan Lewis, Macklemore, Ryan Lewis]               37  \n9                                     Arctic Monkeys               74  ",
            "text/html": "<div>\n<style scoped>\n    .dataframe tbody tr th:only-of-type {\n        vertical-align: middle;\n    }\n\n    .dataframe tbody tr th {\n        vertical-align: top;\n    }\n\n    .dataframe thead th {\n        text-align: right;\n    }\n</style>\n<table border=\"1\" class=\"dataframe\">\n  <thead>\n    <tr style=\"text-align: right;\">\n      <th></th>\n      <th>Song_Title</th>\n      <th>Album</th>\n      <th>Artists</th>\n      <th>Song_Popularity</th>\n    </tr>\n  </thead>\n  <tbody>\n    <tr>\n      <th>0</th>\n      <td>baby pink (feat. Eem Triplin)</td>\n      <td>C,XOXO (Magic City Edition)</td>\n      <td>Camila Cabello</td>\n      <td>53</td>\n    </tr>\n    <tr>\n      <th>1</th>\n      <td>3 Nights</td>\n      <td>Don't Forget About Me, Demos</td>\n      <td>Dominic Fike</td>\n      <td>69</td>\n    </tr>\n    <tr>\n      <th>2</th>\n      <td>Don't Go Yet</td>\n      <td>Familia</td>\n      <td>Camila Cabello</td>\n      <td>45</td>\n    </tr>\n    <tr>\n      <th>3</th>\n      <td>Jailhouse Rock</td>\n      <td>Platinum - A Life In Music</td>\n      <td>Elvis Presley</td>\n      <td>72</td>\n    </tr>\n    <tr>\n      <th>4</th>\n      <td>Paint The Town Blue (from the series Arcane Le...</td>\n      <td>Paint The Town Blue (from the series Arcane Le...</td>\n      <td>[Ashnikko, Arcane, League of Legends]</td>\n      <td>72</td>\n    </tr>\n    <tr>\n      <th>5</th>\n      <td>Celia</td>\n      <td>Familia</td>\n      <td>Camila Cabello</td>\n      <td>41</td>\n    </tr>\n    <tr>\n      <th>6</th>\n      <td>Indecisive - Is It A Crime</td>\n      <td>Indecisive (Is It A Crime)</td>\n      <td>Kidwild</td>\n      <td>66</td>\n    </tr>\n    <tr>\n      <th>7</th>\n      <td>Pope Is a Rockstar</td>\n      <td>SALES LP</td>\n      <td>SALES</td>\n      <td>66</td>\n    </tr>\n    <tr>\n      <th>8</th>\n      <td>Growing Up (feat. Ed Sheeran)</td>\n      <td>This Unruly Mess I've Made</td>\n      <td>[Macklemore &amp; Ryan Lewis, Macklemore, Ryan Lewis]</td>\n      <td>37</td>\n    </tr>\n    <tr>\n      <th>9</th>\n      <td>Arabella</td>\n      <td>AM</td>\n      <td>Arctic Monkeys</td>\n      <td>74</td>\n    </tr>\n  </tbody>\n</table>\n</div>"
          },
          "metadata": {}
        }
      ],
      "execution_count": 30
    },
    {
      "cell_type": "code",
      "source": "top_long_term_tracks = get_top_tracks(refresh_token, \"long_term\", 10) # Last 12 months\ntop_long_term_df = pd.DataFrame(top_long_term_tracks)\ntop_long_term_df",
      "metadata": {
        "trusted": true
      },
      "outputs": [
        {
          "execution_count": 31,
          "output_type": "execute_result",
          "data": {
            "text/plain": "                                          Song_Title  \\\n0                                    Bothmer Schloss   \n1                      baby pink (feat. Eem Triplin)   \n2    Feel It - From The Original Series “Invincible”   \n3                                           3 Nights   \n4                                Young And Beautiful   \n5                                       Don't Go Yet   \n6                                     Jailhouse Rock   \n7                                  Say Yes To Heaven   \n8  Paint The Town Blue (from the series Arcane Le...   \n9                              On An Evening In Roma   \n\n                                               Album  \\\n0                                    Bothmer Schloss   \n1                        C,XOXO (Magic City Edition)   \n2    Feel It (From The Original Series “Invincible”)   \n3                       Don't Forget About Me, Demos   \n4  Music From Baz Luhrmann's Film The Great Gatsb...   \n5                                            Familia   \n6                         Platinum - A Life In Music   \n7                                  Say Yes To Heaven   \n8  Paint The Town Blue (from the series Arcane Le...   \n9                                  The Capitol Years   \n\n                                 Artists  Song_Popularity  \n0                          Marie Bothmer               30  \n1                         Camila Cabello               53  \n2                                   d4vd               77  \n3                           Dominic Fike               69  \n4                        Various Artists               54  \n5                         Camila Cabello               45  \n6                          Elvis Presley               72  \n7                           Lana Del Rey               83  \n8  [Ashnikko, Arcane, League of Legends]               72  \n9                            Dean Martin               41  ",
            "text/html": "<div>\n<style scoped>\n    .dataframe tbody tr th:only-of-type {\n        vertical-align: middle;\n    }\n\n    .dataframe tbody tr th {\n        vertical-align: top;\n    }\n\n    .dataframe thead th {\n        text-align: right;\n    }\n</style>\n<table border=\"1\" class=\"dataframe\">\n  <thead>\n    <tr style=\"text-align: right;\">\n      <th></th>\n      <th>Song_Title</th>\n      <th>Album</th>\n      <th>Artists</th>\n      <th>Song_Popularity</th>\n    </tr>\n  </thead>\n  <tbody>\n    <tr>\n      <th>0</th>\n      <td>Bothmer Schloss</td>\n      <td>Bothmer Schloss</td>\n      <td>Marie Bothmer</td>\n      <td>30</td>\n    </tr>\n    <tr>\n      <th>1</th>\n      <td>baby pink (feat. Eem Triplin)</td>\n      <td>C,XOXO (Magic City Edition)</td>\n      <td>Camila Cabello</td>\n      <td>53</td>\n    </tr>\n    <tr>\n      <th>2</th>\n      <td>Feel It - From The Original Series “Invincible”</td>\n      <td>Feel It (From The Original Series “Invincible”)</td>\n      <td>d4vd</td>\n      <td>77</td>\n    </tr>\n    <tr>\n      <th>3</th>\n      <td>3 Nights</td>\n      <td>Don't Forget About Me, Demos</td>\n      <td>Dominic Fike</td>\n      <td>69</td>\n    </tr>\n    <tr>\n      <th>4</th>\n      <td>Young And Beautiful</td>\n      <td>Music From Baz Luhrmann's Film The Great Gatsb...</td>\n      <td>Various Artists</td>\n      <td>54</td>\n    </tr>\n    <tr>\n      <th>5</th>\n      <td>Don't Go Yet</td>\n      <td>Familia</td>\n      <td>Camila Cabello</td>\n      <td>45</td>\n    </tr>\n    <tr>\n      <th>6</th>\n      <td>Jailhouse Rock</td>\n      <td>Platinum - A Life In Music</td>\n      <td>Elvis Presley</td>\n      <td>72</td>\n    </tr>\n    <tr>\n      <th>7</th>\n      <td>Say Yes To Heaven</td>\n      <td>Say Yes To Heaven</td>\n      <td>Lana Del Rey</td>\n      <td>83</td>\n    </tr>\n    <tr>\n      <th>8</th>\n      <td>Paint The Town Blue (from the series Arcane Le...</td>\n      <td>Paint The Town Blue (from the series Arcane Le...</td>\n      <td>[Ashnikko, Arcane, League of Legends]</td>\n      <td>72</td>\n    </tr>\n    <tr>\n      <th>9</th>\n      <td>On An Evening In Roma</td>\n      <td>The Capitol Years</td>\n      <td>Dean Martin</td>\n      <td>41</td>\n    </tr>\n  </tbody>\n</table>\n</div>"
          },
          "metadata": {}
        }
      ],
      "execution_count": 31
    },
    {
      "cell_type": "code",
      "source": "get_listening_poularity_score(top_long_term_df)",
      "metadata": {
        "trusted": true
      },
      "outputs": [
        {
          "execution_count": 32,
          "output_type": "execute_result",
          "data": {
            "text/plain": "59.6"
          },
          "metadata": {}
        }
      ],
      "execution_count": 32
    },
    {
      "cell_type": "code",
      "source": "top_short_term_artists = get_top_artists(refresh_token, \"short_term\", 10)\ntop_short_term_artists_df = pd.DataFrame(top_short_term_artists)\ntop_short_term_artists_df",
      "metadata": {
        "trusted": true
      },
      "outputs": [
        {
          "execution_count": 33,
          "output_type": "execute_result",
          "data": {
            "text/plain": "        Artist_Name  Artist_Popularity\n0           J. Cole                 84\n1      Lana Del Rey                 89\n2            Arcane                 85\n3     Avril Lavigne                 75\n4         Oh Wonder                 65\n5                NF                 77\n6   Corey Kilgannon                 33\n7     Gracie Abrams                 87\n8  Grace VanderWaal                 53\n9   Suki Waterhouse                 69",
            "text/html": "<div>\n<style scoped>\n    .dataframe tbody tr th:only-of-type {\n        vertical-align: middle;\n    }\n\n    .dataframe tbody tr th {\n        vertical-align: top;\n    }\n\n    .dataframe thead th {\n        text-align: right;\n    }\n</style>\n<table border=\"1\" class=\"dataframe\">\n  <thead>\n    <tr style=\"text-align: right;\">\n      <th></th>\n      <th>Artist_Name</th>\n      <th>Artist_Popularity</th>\n    </tr>\n  </thead>\n  <tbody>\n    <tr>\n      <th>0</th>\n      <td>J. Cole</td>\n      <td>84</td>\n    </tr>\n    <tr>\n      <th>1</th>\n      <td>Lana Del Rey</td>\n      <td>89</td>\n    </tr>\n    <tr>\n      <th>2</th>\n      <td>Arcane</td>\n      <td>85</td>\n    </tr>\n    <tr>\n      <th>3</th>\n      <td>Avril Lavigne</td>\n      <td>75</td>\n    </tr>\n    <tr>\n      <th>4</th>\n      <td>Oh Wonder</td>\n      <td>65</td>\n    </tr>\n    <tr>\n      <th>5</th>\n      <td>NF</td>\n      <td>77</td>\n    </tr>\n    <tr>\n      <th>6</th>\n      <td>Corey Kilgannon</td>\n      <td>33</td>\n    </tr>\n    <tr>\n      <th>7</th>\n      <td>Gracie Abrams</td>\n      <td>87</td>\n    </tr>\n    <tr>\n      <th>8</th>\n      <td>Grace VanderWaal</td>\n      <td>53</td>\n    </tr>\n    <tr>\n      <th>9</th>\n      <td>Suki Waterhouse</td>\n      <td>69</td>\n    </tr>\n  </tbody>\n</table>\n</div>"
          },
          "metadata": {}
        }
      ],
      "execution_count": 33
    },
    {
      "cell_type": "code",
      "source": "top_medium_term_artists = get_top_artists(refresh_token, \"medium_term\", 10)\ntop_medium_term_artists_df = pd.DataFrame(top_medium_term_artists)\ntop_medium_term_artists_df",
      "metadata": {
        "trusted": true
      },
      "outputs": [
        {
          "execution_count": 34,
          "output_type": "execute_result",
          "data": {
            "text/plain": "         Artist_Name  Artist_Popularity\n0     Camila Cabello                 79\n1      Elvis Presley                 79\n2     Kendrick Lamar                 93\n3     Arctic Monkeys                 86\n4            J. Cole                 84\n5         Bruno Mars                 94\n6      Gracie Abrams                 87\n7       Lana Del Rey                 89\n8          Oh Wonder                 65\n9  The Neighbourhood                 83",
            "text/html": "<div>\n<style scoped>\n    .dataframe tbody tr th:only-of-type {\n        vertical-align: middle;\n    }\n\n    .dataframe tbody tr th {\n        vertical-align: top;\n    }\n\n    .dataframe thead th {\n        text-align: right;\n    }\n</style>\n<table border=\"1\" class=\"dataframe\">\n  <thead>\n    <tr style=\"text-align: right;\">\n      <th></th>\n      <th>Artist_Name</th>\n      <th>Artist_Popularity</th>\n    </tr>\n  </thead>\n  <tbody>\n    <tr>\n      <th>0</th>\n      <td>Camila Cabello</td>\n      <td>79</td>\n    </tr>\n    <tr>\n      <th>1</th>\n      <td>Elvis Presley</td>\n      <td>79</td>\n    </tr>\n    <tr>\n      <th>2</th>\n      <td>Kendrick Lamar</td>\n      <td>93</td>\n    </tr>\n    <tr>\n      <th>3</th>\n      <td>Arctic Monkeys</td>\n      <td>86</td>\n    </tr>\n    <tr>\n      <th>4</th>\n      <td>J. Cole</td>\n      <td>84</td>\n    </tr>\n    <tr>\n      <th>5</th>\n      <td>Bruno Mars</td>\n      <td>94</td>\n    </tr>\n    <tr>\n      <th>6</th>\n      <td>Gracie Abrams</td>\n      <td>87</td>\n    </tr>\n    <tr>\n      <th>7</th>\n      <td>Lana Del Rey</td>\n      <td>89</td>\n    </tr>\n    <tr>\n      <th>8</th>\n      <td>Oh Wonder</td>\n      <td>65</td>\n    </tr>\n    <tr>\n      <th>9</th>\n      <td>The Neighbourhood</td>\n      <td>83</td>\n    </tr>\n  </tbody>\n</table>\n</div>"
          },
          "metadata": {}
        }
      ],
      "execution_count": 34
    },
    {
      "cell_type": "code",
      "source": "top_long_term_artists = get_top_artists(refresh_token, \"long_term\", 10)\ntop_long_term_artists = pd.DataFrame(top_long_term_artists)\ntop_long_term_artists",
      "metadata": {
        "trusted": true
      },
      "outputs": [
        {
          "execution_count": 35,
          "output_type": "execute_result",
          "data": {
            "text/plain": "      Artist_Name  Artist_Popularity\n0    Lana Del Rey                 89\n1      Ed Sheeran                 86\n2       Oh Wonder                 65\n3  Camila Cabello                 79\n4         Stormzy                 70\n5           Aitch                 66\n6   Gracie Abrams                 87\n7     Post Malone                 87\n8   Elvis Presley                 79\n9              NF                 77",
            "text/html": "<div>\n<style scoped>\n    .dataframe tbody tr th:only-of-type {\n        vertical-align: middle;\n    }\n\n    .dataframe tbody tr th {\n        vertical-align: top;\n    }\n\n    .dataframe thead th {\n        text-align: right;\n    }\n</style>\n<table border=\"1\" class=\"dataframe\">\n  <thead>\n    <tr style=\"text-align: right;\">\n      <th></th>\n      <th>Artist_Name</th>\n      <th>Artist_Popularity</th>\n    </tr>\n  </thead>\n  <tbody>\n    <tr>\n      <th>0</th>\n      <td>Lana Del Rey</td>\n      <td>89</td>\n    </tr>\n    <tr>\n      <th>1</th>\n      <td>Ed Sheeran</td>\n      <td>86</td>\n    </tr>\n    <tr>\n      <th>2</th>\n      <td>Oh Wonder</td>\n      <td>65</td>\n    </tr>\n    <tr>\n      <th>3</th>\n      <td>Camila Cabello</td>\n      <td>79</td>\n    </tr>\n    <tr>\n      <th>4</th>\n      <td>Stormzy</td>\n      <td>70</td>\n    </tr>\n    <tr>\n      <th>5</th>\n      <td>Aitch</td>\n      <td>66</td>\n    </tr>\n    <tr>\n      <th>6</th>\n      <td>Gracie Abrams</td>\n      <td>87</td>\n    </tr>\n    <tr>\n      <th>7</th>\n      <td>Post Malone</td>\n      <td>87</td>\n    </tr>\n    <tr>\n      <th>8</th>\n      <td>Elvis Presley</td>\n      <td>79</td>\n    </tr>\n    <tr>\n      <th>9</th>\n      <td>NF</td>\n      <td>77</td>\n    </tr>\n  </tbody>\n</table>\n</div>"
          },
          "metadata": {}
        }
      ],
      "execution_count": 35
    },
    {
      "cell_type": "code",
      "source": "lastfm_api_key = os.getenv(\"LASTFM_API_KEY\")\nlastfm_shared_secret = os.getenv(\"LASTFM_SHARED_SECRET\")\nlastfm_redirect_uri = os.getenv(\"LASTFM_REDIRECT_URI\")",
      "metadata": {
        "trusted": true
      },
      "outputs": [],
      "execution_count": 36
    },
    {
      "cell_type": "markdown",
      "source": "CORS Proxy must be enabled. To enable it, click on the button in this link: https://cors-anywhere.herokuapp.com/corsdemo\n",
      "metadata": {}
    },
    {
      "cell_type": "code",
      "source": "# Returns song tags (genres or moods)\ndef get_song_tags(api_key, tag_type, song_name, artist_name):\n\n    api_url = \"http://ws.audioscrobbler.com/2.0/\"\n    proxy_url = \"https://cors-anywhere.herokuapp.com/\"\n    \n    tag_list = []\n\n    if tag_type == \"genres\":   \n        tag_df = pd.read_csv(\"genres.csv\")\n    elif tag_type == \"moods\":   \n        tag_df = pd.read_csv(\"moods.csv\")\n        \n    tag_df = tag_df.map(lambda x: x.lower())\n    \n    params = {\n        \"method\": \"track.getTopTags\",\n        \"artist\": artist_name,\n        \"track\": song_name,\n        \"api_key\": str(api_key),\n        \"format\": \"json\"\n    }\n\n    response = requests.get(proxy_url + api_url, params=params)\n    data = response.json()\n    for tag in data['toptags']['tag']:\n        if tag['name'].lower() in tag_df.values:\n            tag_list.append(tag['name'])\n\n    return tag_list",
      "metadata": {
        "trusted": true
      },
      "outputs": [],
      "execution_count": 109
    },
    {
      "cell_type": "code",
      "source": "# Returns chart data\ndef get_chart_data(api_key, method):\n    api_url = \"http://ws.audioscrobbler.com/2.0/\"\n    proxy_url = \"https://cors-anywhere.herokuapp.com/\"\n\n    params = {\n             \"method\": \"chart.\" + method,\n            \"api_key\": str(api_key),\n            \"format\": \"json\"\n        }\n    \n    response = requests.get(proxy_url + api_url, params=params)\n    data = response.json()\n\n    if method == \"getTopTracks\":\n        topTracks = {\"Song_Title\": [], \"Artist_Name\": []}\n        for x in data['tracks']['track']:\n            topTracks['Song_Title'].append(x['name'])\n            topTracks['Artist_Name'].append(x['artist']['name'])\n        return topTracks\n    \n    elif method == \"getTopArtists\":\n        topArtists = []\n        for x in data['artists']['artist']:\n            topArtists.append(x['name'])\n        return topArtists\n\n    elif method == \"getTopTags\":\n        topTags = []\n        for x in data['tags']['tag']:\n           topTags.append(x['name'])\n        return topTags\n",
      "metadata": {
        "trusted": true
      },
      "outputs": [],
      "execution_count": 39
    },
    {
      "cell_type": "code",
      "source": "# Converts country alpha 2 code (E.g. \"DE\") to ISO 3166-1 country names standard (\"Germany\")\ndef convert_country(alpha_2_code):\n    country = pycountry.countries.get(alpha_2=alpha_2_code.upper())\n    return country.name",
      "metadata": {
        "trusted": true
      },
      "outputs": [],
      "execution_count": 41
    },
    {
      "cell_type": "code",
      "source": "# Returns chart data by country\ndef get_chart_data_by_country(api_key, method, country):\n    \n    api_url = \"http://ws.audioscrobbler.com/2.0/\"\n    proxy_url = \"https://cors-anywhere.herokuapp.com/\"\n\n    params = {\n            \"country\": country,\n            \"method\": \"geo.\" + method,\n            \"api_key\": str(api_key),\n            \"format\": \"json\"\n        }\n    \n    response = requests.get(proxy_url + api_url, params=params)\n    data = response.json()\n    \n    if method == \"getTopTracks\":\n        topTracks = {\"Song_Title\": [], \"Artist_Name\": []}\n        for x in data['tracks']['track']:\n            topTracks['Song_Title'].append(x['name'])\n            topTracks['Artist_Name'].append(x['artist']['name'])\n        return topTracks\n    \n    elif method == \"getTopArtists\":\n        topArtists = []\n        for x in data['topartists']['artist']:\n            topArtists.append(x['name'])\n        return topArtists",
      "metadata": {
        "trusted": true
      },
      "outputs": [],
      "execution_count": 40
    },
    {
      "cell_type": "code",
      "source": "get_song_tags(lastfm_api_key, \"genres\", top_long_term_df['Song_Title'][7], top_long_term_df['Artists'][7])",
      "metadata": {
        "trusted": true
      },
      "outputs": [
        {
          "execution_count": 111,
          "output_type": "execute_result",
          "data": {
            "text/plain": "['alternative',\n 'dream pop',\n 'indie',\n 'pop',\n 'indie pop',\n 'slowcore',\n 'rock',\n 'alternative rock',\n 'ambient',\n 'acoustic',\n 'psychedelic pop',\n 'Alt-country',\n '2010s',\n 'art pop']"
          },
          "metadata": {}
        }
      ],
      "execution_count": 111
    },
    {
      "cell_type": "code",
      "source": "get_song_tags(lastfm_api_key, \"moods\", top_long_term_df['Song_Title'][7], top_long_term_df['Artists'][7])",
      "metadata": {
        "trusted": true
      },
      "outputs": [
        {
          "execution_count": 110,
          "output_type": "execute_result",
          "data": {
            "text/plain": "['sad', 'melancholic']"
          },
          "metadata": {}
        }
      ],
      "execution_count": 110
    }
  ]
}