{
  "metadata": {
    "kernelspec": {
      "name": "python",
      "display_name": "Python (Pyodide)",
      "language": "python"
    },
    "language_info": {
      "codemirror_mode": {
        "name": "python",
        "version": 3
      },
      "file_extension": ".py",
      "mimetype": "text/x-python",
      "name": "python",
      "nbconvert_exporter": "python",
      "pygments_lexer": "ipython3",
      "version": "3.8"
    }
  },
  "nbformat_minor": 4,
  "nbformat": 4,
  "cells": [
    {
      "cell_type": "markdown",
      "source": "<h1> Musikjahr </h1>",
      "metadata": {}
    },
    {
      "cell_type": "markdown",
      "source": "This Data Science project aims to analyze a Spotify user's music trends in the previous year and recommends new artists based on those music trends.",
      "metadata": {}
    },
    {
      "cell_type": "markdown",
      "source": "Install libraries related to API",
      "metadata": {}
    },
    {
      "cell_type": "code",
      "source": "%pip install python-dotenv\n%pip install requests",
      "metadata": {
        "trusted": true
      },
      "outputs": [],
      "execution_count": 1
    },
    {
      "cell_type": "markdown",
      "source": "Install libraries related to Data Science tasks",
      "metadata": {}
    },
    {
      "cell_type": "code",
      "source": "%pip install seaborn",
      "metadata": {
        "trusted": true
      },
      "outputs": [],
      "execution_count": 2
    },
    {
      "cell_type": "markdown",
      "source": "Install library related to Spotify OAuth2",
      "metadata": {}
    },
    {
      "cell_type": "code",
      "source": "from dotenv import load_dotenv\nimport os\nimport base64\nimport requests\nimport urllib.parse\nimport json\nimport pandas as pd\nimport matplotlib.pyplot as plt\nimport seaborn as sns\nimport webbrowser\nfrom http.server import BaseHTTPRequestHandler, HTTPServer",
      "metadata": {
        "trusted": true
      },
      "outputs": [
        {
          "name": "stderr",
          "output_type": "stream",
          "text": "Matplotlib is building the font cache; this may take a moment.\n"
        }
      ],
      "execution_count": 3
    },
    {
      "cell_type": "code",
      "source": "load_dotenv()",
      "metadata": {
        "trusted": true
      },
      "outputs": [
        {
          "execution_count": 4,
          "output_type": "execute_result",
          "data": {
            "text/plain": "True"
          },
          "metadata": {}
        }
      ],
      "execution_count": 4
    },
    {
      "cell_type": "code",
      "source": "client_id = os.getenv(\"CLIENT_ID\")\nclient_secret = os.getenv(\"CLIENT_SECRET\")\nredirect_uri = \"http://localhost:3001\"\nscope = \"user-top-read\"",
      "metadata": {
        "trusted": true
      },
      "outputs": [],
      "execution_count": 5
    },
    {
      "cell_type": "code",
      "source": "# Returns the authorization header required to query the API\ndef get_auth_header(token):\n    return {\"Authorization\": \"Bearer \" + token}",
      "metadata": {
        "trusted": true
      },
      "outputs": [],
      "execution_count": 6
    },
    {
      "cell_type": "code",
      "source": "def get_auth_code():\n    auth_url = \"https://accounts.spotify.com/authorize\"\n    \n    params = {\n        \"client_id\": client_id,\n        \"response_type\": \"code\",\n        \"redirect_uri\": redirect_uri,\n        \"scope\": \"user-top-read\",\n    }\n\n    auth_url = f\"{auth_url}?{urllib.parse.urlencode(params)}\"\n    print(f\"Please Authorize access by clicking on: {auth_url}\")\n\n    auth_code = input(\"Enter the code in the generated URL: \")\n    \n    return auth_code\n",
      "metadata": {
        "trusted": true
      },
      "outputs": [],
      "execution_count": 7
    },
    {
      "cell_type": "code",
      "source": "# Returns new refresh token\ndef exchange_auth_code_for_refresh_token(auth_code):\n    token_url = \"https://accounts.spotify.com/api/token\"\n    \n    data = {\n        \"grant_type\": \"authorization_code\",\n        \"code\": auth_code,\n        \"redirect_uri\": redirect_uri,\n        \"client_id\": client_id,\n        \"client_secret\": client_secret\n        }\n\n    result = requests.post(token_url, data=data)\n    json_result = json.loads(result.content)\n    refresh_token = json_result['refresh_token']\n    \n    return refresh_token",
      "metadata": {
        "trusted": true
      },
      "outputs": [],
      "execution_count": 8
    },
    {
      "cell_type": "code",
      "source": "# Returns a new access token upon every execution\ndef refresh_access_token(refresh_token):\n    token_url = \"https://accounts.spotify.com/api/token\"\n    \n    data = {\n        \"grant_type\": \"refresh_token\",\n        \"refresh_token\": refresh_token,\n        \"client_id\": client_id,\n        \"client_secret\": client_secret\n        }\n\n    result = requests.post(token_url, data=data)\n    json_result = json.loads(result.content)\n    new_access_token = json_result['access_token']\n\n    return new_access_token",
      "metadata": {
        "trusted": true
      },
      "outputs": [],
      "execution_count": 9
    },
    {
      "cell_type": "code",
      "source": "auth_code = get_auth_code()\nprint(auth_code)",
      "metadata": {
        "trusted": true
      },
      "outputs": [
        {
          "name": "stdout",
          "output_type": "stream",
          "text": "Please Authorize access by clicking on: https://accounts.spotify.com/authorize?client_id=9e3ab84ec3634133b2710bc672715e09&response_type=code&redirect_uri=http%3A%2F%2Flocalhost%3A3001&scope=user-top-read\n<PyodideFuture pending cb=[WebLoop._decrement_in_progress()]>\n"
        },
        {
          "output_type": "stream",
          "name": "stdin",
          "text": "Enter the code in the generated URL:  AQA-8xpdn99148JP6CJlJJyrps2tXtPQvwz_Y4zh-m7aBHONvQNbRkSY5N85pxAYlre7yP4hQfybFMSoSNXQIHx1euIVePdhXch9UJuFDAzHaZ2aMIpk5fXHtTIjkyYI7ItVdExnLoFVHFHodh20bLBkDfW-mzWp5ZNbXsgMvAPsYHZYZP2YqA\n"
        }
      ],
      "execution_count": 11
    },
    {
      "cell_type": "code",
      "source": "refresh_token = exchange_auth_code_for_refresh_token(auth_code.result())",
      "metadata": {
        "trusted": true
      },
      "outputs": [],
      "execution_count": 12
    },
    {
      "cell_type": "code",
      "source": "def get_top_tracks(refresh_token, time_period, amount):\n    api_url = \"https://api.spotify.com/v1/me/top/tracks\"\n    \n    params = {\n        \"limit\": amount,\n        \"time_range\": str(time_period),\n        \"offset\": 0\n    }\n    \n    result = requests.get(api_url, headers=get_auth_header(refresh_access_token(refresh_token)), params=params)\n    data = json.loads(result.content)\n\n    songs_dict={\"Song_Title\": [], \"Artists\": []} # Add Popularity\n    song_data = []\n    artists_data = []\n\n    \n    for song in data['items']:\n        song_data.append(song['name'])\n\n    for song in data['items']:\n        artists_data_list = song['album']['artists']\n        if(len(artists_data_list) > 1):\n            \n            artists_for_song = []\n            for artists in artists_data_list:\n                artists_for_song.append(artists['name'])\n            artists_data.append(artists_for_song)\n        else:\n            for artists in artists_data_list:\n                artists_data.append(artists['name'])\n\n    \n    for song in song_data:\n        songs_dict['Song_Title'].append(song)\n\n        \n    for artist in artists_data:\n        songs_dict['Artists'].append(artist)\n            \n    return songs_dict\n",
      "metadata": {
        "trusted": true
      },
      "outputs": [],
      "execution_count": 106
    },
    {
      "cell_type": "code",
      "source": "get_top_tracks(refresh_token, \"short_term\", 5) # Last 4 weeks",
      "metadata": {
        "trusted": true
      },
      "outputs": [
        {
          "execution_count": 107,
          "output_type": "execute_result",
          "data": {
            "text/plain": "{'Song_Title': ['Snow On Tha Bluff',\n  'Rain in Cuba',\n  'You’re Gonna Go Far',\n  'Winter Wonderland',\n  'Stick Season'],\n 'Artists': ['J. Cole', 'Joe Hertz', 'Noah Kahan', 'J. Cole', 'Noah Kahan']}"
          },
          "metadata": {}
        }
      ],
      "execution_count": 107
    },
    {
      "cell_type": "code",
      "source": "get_top_tracks(refresh_token, \"medium_term\", 5) # Last 6 months",
      "metadata": {
        "trusted": true
      },
      "outputs": [
        {
          "execution_count": 108,
          "output_type": "execute_result",
          "data": {
            "text/plain": "{'Song_Title': ['baby pink (feat. Eem Triplin)',\n  '3 Nights',\n  \"Don't Go Yet\",\n  'Jailhouse Rock',\n  'Paint The Town Blue (from the series Arcane League of Legends)'],\n 'Artists': ['Camila Cabello',\n  'Dominic Fike',\n  'Camila Cabello',\n  'Elvis Presley',\n  ['Ashnikko', 'Arcane', 'League of Legends']]}"
          },
          "metadata": {}
        }
      ],
      "execution_count": 108
    },
    {
      "cell_type": "code",
      "source": "get_top_tracks(refresh_token, \"long_term\", 5) # Last 12 months",
      "metadata": {
        "trusted": true
      },
      "outputs": [
        {
          "execution_count": 117,
          "output_type": "execute_result",
          "data": {
            "text/plain": "{'Song_Title': ['Bothmer Schloss',\n  'baby pink (feat. Eem Triplin)',\n  '3 Nights',\n  'Feel It - From The Original Series “Invincible”',\n  'Young And Beautiful'],\n 'Artists': ['Marie Bothmer',\n  'Camila Cabello',\n  'Dominic Fike',\n  'd4vd',\n  'Various Artists']}"
          },
          "metadata": {}
        }
      ],
      "execution_count": 117
    },
    {
      "cell_type": "code",
      "source": "",
      "metadata": {
        "trusted": true
      },
      "outputs": [],
      "execution_count": null
    }
  ]
}