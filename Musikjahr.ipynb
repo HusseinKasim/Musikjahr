{
  "metadata": {
    "kernelspec": {
      "name": "python",
      "display_name": "Python (Pyodide)",
      "language": "python"
    },
    "language_info": {
      "codemirror_mode": {
        "name": "python",
        "version": 3
      },
      "file_extension": ".py",
      "mimetype": "text/x-python",
      "name": "python",
      "nbconvert_exporter": "python",
      "pygments_lexer": "ipython3",
      "version": "3.8"
    }
  },
  "nbformat_minor": 4,
  "nbformat": 4,
  "cells": [
    {
      "cell_type": "markdown",
      "source": "<h1> Musikjahr </h1>",
      "metadata": {}
    },
    {
      "cell_type": "markdown",
      "source": "This Data Science project aims to analyze a Spotify user's music trends in the previous year and recommends new artists based on those music trends.",
      "metadata": {}
    },
    {
      "cell_type": "markdown",
      "source": "Install libraries related to API",
      "metadata": {}
    },
    {
      "cell_type": "code",
      "source": "%pip install python-dotenv\n%pip install requests",
      "metadata": {
        "trusted": true
      },
      "outputs": [],
      "execution_count": 2
    },
    {
      "cell_type": "markdown",
      "source": "Install libraries related to Data Science tasks",
      "metadata": {}
    },
    {
      "cell_type": "code",
      "source": "%pip install seaborn",
      "metadata": {
        "trusted": true
      },
      "outputs": [],
      "execution_count": 3
    },
    {
      "cell_type": "markdown",
      "source": "Install library related to Spotify OAuth2",
      "metadata": {}
    },
    {
      "cell_type": "code",
      "source": "from dotenv import load_dotenv\nimport os\nimport base64\nimport requests\nimport urllib.parse\nimport json\nimport pandas as pd\nimport matplotlib.pyplot as plt\nimport seaborn as sns\nimport webbrowser\nfrom http.server import BaseHTTPRequestHandler, HTTPServer",
      "metadata": {
        "trusted": true
      },
      "outputs": [
        {
          "name": "stderr",
          "output_type": "stream",
          "text": "Matplotlib is building the font cache; this may take a moment.\n"
        }
      ],
      "execution_count": 4
    },
    {
      "cell_type": "code",
      "source": "load_dotenv()",
      "metadata": {
        "trusted": true
      },
      "outputs": [
        {
          "execution_count": 5,
          "output_type": "execute_result",
          "data": {
            "text/plain": "True"
          },
          "metadata": {}
        }
      ],
      "execution_count": 5
    },
    {
      "cell_type": "code",
      "source": "client_id = os.getenv(\"CLIENT_ID\")\nclient_secret = os.getenv(\"CLIENT_SECRET\")\nredirect_uri = \"http://localhost:3001\"\nscope = \"user-top-read\"",
      "metadata": {
        "trusted": true
      },
      "outputs": [],
      "execution_count": 6
    },
    {
      "cell_type": "code",
      "source": "# Returns the authorization header required to query the API\ndef get_auth_header(token):\n    return {\"Authorization\": \"Bearer \" + token}",
      "metadata": {
        "trusted": true
      },
      "outputs": [],
      "execution_count": 7
    },
    {
      "cell_type": "code",
      "source": "def get_auth_code():\n    auth_url = \"https://accounts.spotify.com/authorize\"\n    \n    params = {\n        \"client_id\": client_id,\n        \"response_type\": \"code\",\n        \"redirect_uri\": redirect_uri,\n        \"scope\": \"user-top-read\",\n    }\n\n    auth_url = f\"{auth_url}?{urllib.parse.urlencode(params)}\"\n    print(f\"Please Authorize access by clicking on: {auth_url}\")\n\n    auth_code = input(\"Enter the code in the generated URL: \")\n    \n    return auth_code\n",
      "metadata": {
        "trusted": true
      },
      "outputs": [],
      "execution_count": 8
    },
    {
      "cell_type": "code",
      "source": "# Returns new refresh token\ndef exchange_auth_code_for_refresh_token(auth_code):\n    token_url = \"https://accounts.spotify.com/api/token\"\n    \n    data = {\n        \"grant_type\": \"authorization_code\",\n        \"code\": auth_code,\n        \"redirect_uri\": redirect_uri,\n        \"client_id\": client_id,\n        \"client_secret\": client_secret\n        }\n\n    result = requests.post(token_url, data=data)\n    json_result = json.loads(result.content)\n    refresh_token = json_result['refresh_token']\n    \n    return refresh_token",
      "metadata": {
        "trusted": true
      },
      "outputs": [],
      "execution_count": 9
    },
    {
      "cell_type": "code",
      "source": "# Returns a new access token upon every execution\ndef refresh_access_token(refresh_token):\n    token_url = \"https://accounts.spotify.com/api/token\"\n    \n    data = {\n        \"grant_type\": \"refresh_token\",\n        \"refresh_token\": refresh_token,\n        \"client_id\": client_id,\n        \"client_secret\": client_secret\n        }\n\n    result = requests.post(token_url, data=data)\n    json_result = json.loads(result.content)\n    new_access_token = json_result['access_token']\n\n    return new_access_token",
      "metadata": {
        "trusted": true
      },
      "outputs": [],
      "execution_count": 10
    },
    {
      "cell_type": "code",
      "source": "auth_code = get_auth_code()\nprint(auth_code)",
      "metadata": {
        "trusted": true
      },
      "outputs": [
        {
          "name": "stdout",
          "output_type": "stream",
          "text": "Please Authorize access by clicking on: https://accounts.spotify.com/authorize?client_id=9e3ab84ec3634133b2710bc672715e09&response_type=code&redirect_uri=http%3A%2F%2Flocalhost%3A3001&scope=user-top-read\n<PyodideFuture pending cb=[WebLoop._decrement_in_progress()]>\n"
        },
        {
          "output_type": "stream",
          "name": "stdin",
          "text": "Enter the code in the generated URL:  AQDlw9ousct6m4WrL3vWHbLW1kYWjHvlGzfdsa4OOCm4yuFXry7puMDQP2JWqU_p0gH1AHJ9SePD0uPjxE3ix2E9i9jYtE1a4aTgfPs9evYSenh3h4Wq3G7OHD2pQk6xZKCcJGswQcert7ZraK2Ft70rO_ZSO_p00DNXs0HIZ2FyHiPAYMOmsw\n"
        }
      ],
      "execution_count": 11
    },
    {
      "cell_type": "code",
      "source": "refresh_token = exchange_auth_code_for_refresh_token(auth_code.result())",
      "metadata": {
        "trusted": true
      },
      "outputs": [],
      "execution_count": 12
    },
    {
      "cell_type": "code",
      "source": "# Returns the user's top tracks based on given time period\ndef get_top_tracks(refresh_token, time_period, amount):\n    api_url = \"https://api.spotify.com/v1/me/top/tracks\"\n    \n    params = {\n        \"limit\": amount,\n        \"time_range\": str(time_period),\n        \"offset\": 0\n    }\n    \n    result = requests.get(api_url, headers=get_auth_header(refresh_access_token(refresh_token)), params=params)\n    data = json.loads(result.content)\n\n    songs_dict={\"Song_Title\": [], \"Album\": [], \"Artists\": [], \"Song_Popularity\" : []} # Add Artist_Popularity and Genre (?) (from Artist)\n    \n    song_data = []\n    album_data = []\n    artists_data = []\n    popularity_data = []\n\n    # Retrieve song name and popularity and store in respective lists\n    for song in data['items']:\n        song_data.append(song['name'])\n        popularity_data.append(song['popularity'])\n\n    # Retrieve album name and artist name and store in respective lists\n    for song in data['items']:\n        artists_data_list = song['album']['artists']\n        album_data.append(song['album']['name'])\n        if(len(artists_data_list) > 1):\n            artists_for_song = []\n            for artists in artists_data_list:\n                artists_for_song.append(artists['name'])\n            artists_data.append(artists_for_song)\n        else:\n            for artists in artists_data_list:\n                artists_data.append(artists['name'])\n\n    # Copy data from lists to dict\n    for song in song_data:\n        songs_dict['Song_Title'].append(song)\n    for album in album_data:\n        songs_dict['Album'].append(album)\n    for artist in artists_data:\n        songs_dict['Artists'].append(artist)\n    for pop in popularity_data:\n        songs_dict['Song_Popularity'].append(pop)\n            \n    return songs_dict\n",
      "metadata": {
        "trusted": true
      },
      "outputs": [],
      "execution_count": 131
    },
    {
      "cell_type": "code",
      "source": "# Returns user's top artists\ndef get_top_artists():\n    return top_artists_dict",
      "metadata": {
        "trusted": true
      },
      "outputs": [],
      "execution_count": 130
    },
    {
      "cell_type": "code",
      "source": "# Returns a score of how popular the user's recent songs are\ndef get_listening_poularity_score(df):\n    return float(df[\"Song_Popularity\"].mean())",
      "metadata": {
        "trusted": true
      },
      "outputs": [],
      "execution_count": 120
    },
    {
      "cell_type": "code",
      "source": "top_short_term_tracks = get_top_tracks(refresh_token, \"short_term\", 10) # Last 4 weeks\ntop_short_term_df = pd.DataFrame(top_short_term_tracks)",
      "metadata": {
        "trusted": true
      },
      "outputs": [],
      "execution_count": 121
    },
    {
      "cell_type": "code",
      "source": "top_medium_term_tracks = get_top_tracks(refresh_token, \"medium_term\", 10) # Last 6 months\ntop_medium_term_df = pd.DataFrame(top_medium_term_tracks)",
      "metadata": {
        "trusted": true
      },
      "outputs": [],
      "execution_count": 122
    },
    {
      "cell_type": "code",
      "source": "top_long_term_tracks = get_top_tracks(refresh_token, \"long_term\", 10) # Last 12 months\ntop_long_term_df = pd.DataFrame(top_long_term_tracks)",
      "metadata": {
        "trusted": true
      },
      "outputs": [],
      "execution_count": 123
    },
    {
      "cell_type": "code",
      "source": "top_short_term_df",
      "metadata": {
        "trusted": true
      },
      "outputs": [
        {
          "execution_count": 124,
          "output_type": "execute_result",
          "data": {
            "text/plain": "                                          Song_Title  \\\n0                                  Snow On Tha Bluff   \n1                                       Rain in Cuba   \n2                                       Stick Season   \n3                                  Winter Wonderland   \n4  Heavy Is The Crown (Original Score) (from the ...   \n5                                You’re Gonna Go Far   \n6                                          Sk8er Boi   \n7  Remember Me (from the series Arcane League of ...   \n8                          Soft Gentle Brilliant III   \n9  The Line (from the series Arcane League of Leg...   \n\n                                               Album  \\\n0                                  Snow On Tha Bluff   \n1                                      Current Blues   \n2                                       Stick Season   \n3  2014 Forest Hills Drive (10 Year Anniversary E...   \n4  Arcane League of Legends: Season 2 (Soundtrack...   \n5           Stick Season (We'll All Be Here Forever)   \n6                                             Let Go   \n7  Arcane League of Legends: Season 2 (Soundtrack...   \n8       From Silence, to Silence, and with Great Joy   \n9  Arcane League of Legends: Season 2 (Soundtrack...   \n\n                       Artists  Song_Popularity  \n0                      J. Cole               62  \n1                    Joe Hertz               40  \n2                   Noah Kahan               86  \n3                      J. Cole               59  \n4  [Arcane, League of Legends]               73  \n5                   Noah Kahan               80  \n6                Avril Lavigne               77  \n7  [Arcane, League of Legends]               76  \n8              Corey Kilgannon               18  \n9  [Arcane, League of Legends]               81  ",
            "text/html": "<div>\n<style scoped>\n    .dataframe tbody tr th:only-of-type {\n        vertical-align: middle;\n    }\n\n    .dataframe tbody tr th {\n        vertical-align: top;\n    }\n\n    .dataframe thead th {\n        text-align: right;\n    }\n</style>\n<table border=\"1\" class=\"dataframe\">\n  <thead>\n    <tr style=\"text-align: right;\">\n      <th></th>\n      <th>Song_Title</th>\n      <th>Album</th>\n      <th>Artists</th>\n      <th>Song_Popularity</th>\n    </tr>\n  </thead>\n  <tbody>\n    <tr>\n      <th>0</th>\n      <td>Snow On Tha Bluff</td>\n      <td>Snow On Tha Bluff</td>\n      <td>J. Cole</td>\n      <td>62</td>\n    </tr>\n    <tr>\n      <th>1</th>\n      <td>Rain in Cuba</td>\n      <td>Current Blues</td>\n      <td>Joe Hertz</td>\n      <td>40</td>\n    </tr>\n    <tr>\n      <th>2</th>\n      <td>Stick Season</td>\n      <td>Stick Season</td>\n      <td>Noah Kahan</td>\n      <td>86</td>\n    </tr>\n    <tr>\n      <th>3</th>\n      <td>Winter Wonderland</td>\n      <td>2014 Forest Hills Drive (10 Year Anniversary E...</td>\n      <td>J. Cole</td>\n      <td>59</td>\n    </tr>\n    <tr>\n      <th>4</th>\n      <td>Heavy Is The Crown (Original Score) (from the ...</td>\n      <td>Arcane League of Legends: Season 2 (Soundtrack...</td>\n      <td>[Arcane, League of Legends]</td>\n      <td>73</td>\n    </tr>\n    <tr>\n      <th>5</th>\n      <td>You’re Gonna Go Far</td>\n      <td>Stick Season (We'll All Be Here Forever)</td>\n      <td>Noah Kahan</td>\n      <td>80</td>\n    </tr>\n    <tr>\n      <th>6</th>\n      <td>Sk8er Boi</td>\n      <td>Let Go</td>\n      <td>Avril Lavigne</td>\n      <td>77</td>\n    </tr>\n    <tr>\n      <th>7</th>\n      <td>Remember Me (from the series Arcane League of ...</td>\n      <td>Arcane League of Legends: Season 2 (Soundtrack...</td>\n      <td>[Arcane, League of Legends]</td>\n      <td>76</td>\n    </tr>\n    <tr>\n      <th>8</th>\n      <td>Soft Gentle Brilliant III</td>\n      <td>From Silence, to Silence, and with Great Joy</td>\n      <td>Corey Kilgannon</td>\n      <td>18</td>\n    </tr>\n    <tr>\n      <th>9</th>\n      <td>The Line (from the series Arcane League of Leg...</td>\n      <td>Arcane League of Legends: Season 2 (Soundtrack...</td>\n      <td>[Arcane, League of Legends]</td>\n      <td>81</td>\n    </tr>\n  </tbody>\n</table>\n</div>"
          },
          "metadata": {}
        }
      ],
      "execution_count": 124
    },
    {
      "cell_type": "code",
      "source": "get_listening_poularity_score(top_long_term_df)",
      "metadata": {
        "trusted": true
      },
      "outputs": [
        {
          "execution_count": 132,
          "output_type": "execute_result",
          "data": {
            "text/plain": "60.3"
          },
          "metadata": {}
        }
      ],
      "execution_count": 132
    },
    {
      "cell_type": "code",
      "source": "",
      "metadata": {
        "trusted": true
      },
      "outputs": [],
      "execution_count": null
    }
  ]
}