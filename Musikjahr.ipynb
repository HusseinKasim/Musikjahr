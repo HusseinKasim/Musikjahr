{
  "cells": [
    {
      "cell_type": "markdown",
      "metadata": {},
      "source": [
        "<h1> Musikjahr </h1>"
      ]
    },
    {
      "cell_type": "markdown",
      "metadata": {},
      "source": [
        "This Data Science project aims to analyze a Spotify user's music trends in the previous year and recommends new artists based on those music trends."
      ]
    },
    {
      "cell_type": "markdown",
      "metadata": {},
      "source": [
        "Install libraries related to API"
      ]
    },
    {
      "cell_type": "code",
      "execution_count": 56,
      "metadata": {
        "trusted": true
      },
      "outputs": [
        {
          "ename": "",
          "evalue": "",
          "output_type": "error",
          "traceback": [
            "\u001b[1;31mRunning cells with 'Python 3.11.9' requires the ipykernel package.\n",
            "\u001b[1;31mRun the following command to install 'ipykernel' into the Python environment. \n",
            "\u001b[1;31mCommand: '\"c:/Users/Hussein Kasim/AppData/Local/Microsoft/WindowsApps/python3.11.exe\" -m pip install ipykernel -U --user --force-reinstall'"
          ]
        }
      ],
      "source": [
        "%pip install python-dotenv\n",
        "%pip install requests"
      ]
    },
    {
      "cell_type": "markdown",
      "metadata": {},
      "source": [
        "Install libraries related to Data Science tasks"
      ]
    },
    {
      "cell_type": "code",
      "execution_count": 57,
      "metadata": {
        "trusted": true
      },
      "outputs": [],
      "source": [
        "%pip install seaborn"
      ]
    },
    {
      "cell_type": "markdown",
      "metadata": {},
      "source": [
        "Import requried libraries"
      ]
    },
    {
      "cell_type": "code",
      "execution_count": 58,
      "metadata": {
        "trusted": true
      },
      "outputs": [],
      "source": [
        "from dotenv import load_dotenv\n",
        "import os\n",
        "import base64\n",
        "from requests import post\n",
        "import json\n",
        "import pandas as pd\n",
        "import matplotlib.pyplot as plt\n",
        "import seaborn as sns"
      ]
    },
    {
      "cell_type": "code",
      "execution_count": null,
      "metadata": {
        "trusted": true
      },
      "outputs": [],
      "source": [
        "load_dotenv()"
      ]
    },
    {
      "cell_type": "code",
      "execution_count": 60,
      "metadata": {
        "trusted": true
      },
      "outputs": [],
      "source": [
        "client_id = os.getenv(\"CLIENT_ID\")\n",
        "client_secret = os.getenv(\"CLIENT_SECRET\")"
      ]
    },
    {
      "cell_type": "code",
      "execution_count": 68,
      "metadata": {
        "trusted": true
      },
      "outputs": [],
      "source": [
        "# Returns authorization token from the Spotify API\n",
        "def get_token():\n",
        "    auth_string = client_id + \":\" + client_secret\n",
        "    auth_bytes = auth_string.encode(\"utf-8\")\n",
        "    auth_base64 = str(base64.b64encode(auth_bytes), \"utf_8\")\n",
        "\n",
        "    url = \"https://accounts.spotify.com/api/token\"\n",
        "    headers = {\n",
        "        \"Authorization\": \"Basic \" + auth_base64,\n",
        "        \"Content-Type\": \"application/x-www-form-urlencoded\"\n",
        "    }\n",
        "    data = {\"grant_type\": \"client_credentials\"}\n",
        "    result = post(url, headers=headers, data=data)\n",
        "    json_result = json.loads(result.content)\n",
        "    token = json_result[\"access_token\"]\n",
        "    return token\n",
        "\n",
        "# Returns the authorization header required to query the API\n",
        "def get_auth_header(token):\n",
        "    return {\"Authorization\": \"Bearer \" + token}"
      ]
    },
    {
      "cell_type": "code",
      "execution_count": 98,
      "metadata": {
        "trusted": true
      },
      "outputs": [],
      "source": [
        "def search_for_track(token, track_id):\n",
        "    url = f\"https://api.spotify.com/v1/tracks/{track_id}\"\n",
        "    headers = get_auth_header(token)\n",
        "\n",
        "    result = requests.get(url, headers=headers)\n",
        "    json_result = json.loads(result.content)\n",
        "    print(json_result)"
      ]
    },
    {
      "cell_type": "code",
      "execution_count": 100,
      "metadata": {
        "trusted": true
      },
      "outputs": [
        {
          "name": "stdout",
          "output_type": "stream",
          "text": [
            "{'album': {'album_type': 'single', 'artists': [{'external_urls': {'spotify': 'https://open.spotify.com/artist/6sFIWsNpZYqfjUpaCgueju'}, 'href': 'https://api.spotify.com/v1/artists/6sFIWsNpZYqfjUpaCgueju', 'id': '6sFIWsNpZYqfjUpaCgueju', 'name': 'Carly Rae Jepsen', 'type': 'artist', 'uri': 'spotify:artist:6sFIWsNpZYqfjUpaCgueju'}], 'available_markets': [], 'external_urls': {'spotify': 'https://open.spotify.com/album/0tGPJ0bkWOUmH7MEOR77qc'}, 'href': 'https://api.spotify.com/v1/albums/0tGPJ0bkWOUmH7MEOR77qc', 'id': '0tGPJ0bkWOUmH7MEOR77qc', 'images': [{'url': 'https://i.scdn.co/image/ab67616d0000b2737359994525d219f64872d3b1', 'width': 640, 'height': 640}, {'url': 'https://i.scdn.co/image/ab67616d00001e027359994525d219f64872d3b1', 'width': 300, 'height': 300}, {'url': 'https://i.scdn.co/image/ab67616d000048517359994525d219f64872d3b1', 'width': 64, 'height': 64}], 'name': 'Cut To The Feeling', 'release_date': '2017-05-26', 'release_date_precision': 'day', 'total_tracks': 1, 'type': 'album', 'uri': 'spotify:album:0tGPJ0bkWOUmH7MEOR77qc'}, 'artists': [{'external_urls': {'spotify': 'https://open.spotify.com/artist/6sFIWsNpZYqfjUpaCgueju'}, 'href': 'https://api.spotify.com/v1/artists/6sFIWsNpZYqfjUpaCgueju', 'id': '6sFIWsNpZYqfjUpaCgueju', 'name': 'Carly Rae Jepsen', 'type': 'artist', 'uri': 'spotify:artist:6sFIWsNpZYqfjUpaCgueju'}], 'available_markets': [], 'disc_number': 1, 'duration_ms': 207959, 'explicit': False, 'external_ids': {'isrc': 'USUM71703861'}, 'external_urls': {'spotify': 'https://open.spotify.com/track/11dFghVXANMlKmJXsNCbNl'}, 'href': 'https://api.spotify.com/v1/tracks/11dFghVXANMlKmJXsNCbNl', 'id': '11dFghVXANMlKmJXsNCbNl', 'is_local': False, 'name': 'Cut To The Feeling', 'popularity': 0, 'preview_url': None, 'track_number': 1, 'type': 'track', 'uri': 'spotify:track:11dFghVXANMlKmJXsNCbNl'}\n"
          ]
        },
        {
          "ename": "<class 'TypeError'>",
          "evalue": "'NoneType' object is not subscriptable",
          "output_type": "error",
          "traceback": [
            "\u001b[0;31m---------------------------------------------------------------------------\u001b[0m",
            "\u001b[0;31mTypeError\u001b[0m                                 Traceback (most recent call last)",
            "Cell \u001b[0;32mIn[100], line 2\u001b[0m\n\u001b[1;32m      1\u001b[0m token \u001b[38;5;241m=\u001b[39m get_token()\n\u001b[0;32m----> 2\u001b[0m \u001b[43msearch_for_track\u001b[49m\u001b[43m(\u001b[49m\u001b[43mtoken\u001b[49m\u001b[43m,\u001b[49m\u001b[43m \u001b[49m\u001b[38;5;124;43m\"\u001b[39;49m\u001b[38;5;124;43m11dFghVXANMlKmJXsNCbNl\u001b[39;49m\u001b[38;5;124;43m\"\u001b[39;49m\u001b[43m)\u001b[49m\u001b[43m[\u001b[49m\u001b[38;5;124;43m'\u001b[39;49m\u001b[38;5;124;43malbum\u001b[39;49m\u001b[38;5;124;43m'\u001b[39;49m\u001b[43m]\u001b[49m\n",
            "\u001b[0;31mTypeError\u001b[0m: 'NoneType' object is not subscriptable"
          ]
        }
      ],
      "source": [
        "token = get_token()\n",
        "search_for_track(token, \"11dFghVXANMlKmJXsNCbNl\")"
      ]
    },
    {
      "cell_type": "code",
      "execution_count": 74,
      "metadata": {
        "trusted": true
      },
      "outputs": [
        {
          "data": {
            "text/plain": [
              "'BQCz-BDguCFv2hQzM9OIfAHt1TdiKo6p0XcsOEBNpgR_WviA1MokqeYBHhxSCNlHEaOzHuTR0CymJYHQq_v1VziHmdtTIFQkM1vjWg40dQ3qi2SvZG0'"
            ]
          },
          "execution_count": 74,
          "metadata": {},
          "output_type": "execute_result"
        }
      ],
      "source": [
        "get_token()"
      ]
    },
    {
      "cell_type": "code",
      "execution_count": null,
      "metadata": {
        "trusted": true
      },
      "outputs": [],
      "source": []
    }
  ],
  "metadata": {
    "kernelspec": {
      "display_name": "Python 3",
      "language": "python",
      "name": "python3"
    },
    "language_info": {
      "codemirror_mode": {
        "name": "python",
        "version": 3
      },
      "file_extension": ".py",
      "mimetype": "text/x-python",
      "name": "python",
      "nbconvert_exporter": "python",
      "pygments_lexer": "ipython3",
      "version": "3.11.9"
    }
  },
  "nbformat": 4,
  "nbformat_minor": 4
}
